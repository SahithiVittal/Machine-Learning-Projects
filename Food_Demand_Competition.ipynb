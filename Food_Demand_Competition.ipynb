{
 "cells": [
  {
   "cell_type": "code",
   "execution_count": 7,
   "metadata": {
    "id": "hmiVttmSXc_p"
   },
   "outputs": [],
   "source": [
    "import numpy as np\n",
    "import pandas as pd\n",
    "import matplotlib.pyplot as plt\n",
    "import seaborn as sns\n",
    "import warnings\n",
    "warnings.filterwarnings('ignore')"
   ]
  },
  {
   "cell_type": "code",
   "execution_count": 8,
   "metadata": {
    "id": "JFzA3_rjX0nU"
   },
   "outputs": [],
   "source": [
    "train=pd.read_csv(r\"C:\\Users\\Lenovo\\Downloads\\Dataset\\Dataset\\Train.csv\")"
   ]
  },
  {
   "cell_type": "code",
   "execution_count": 9,
   "metadata": {
    "id": "PvGU04ZaYlTP"
   },
   "outputs": [],
   "source": [
    "test=pd.read_csv(r\"C:\\Users\\Lenovo\\Downloads\\Dataset\\Dataset\\Test.csv\")"
   ]
  },
  {
   "cell_type": "code",
   "execution_count": 10,
   "metadata": {
    "id": "p6s_g8yuZJrg"
   },
   "outputs": [],
   "source": [
    "combined=pd.concat([train,test], ignore_index=True)\n"
   ]
  },
  {
   "cell_type": "code",
   "execution_count": 11,
   "metadata": {
    "colab": {
     "base_uri": "https://localhost:8080/",
     "height": 295
    },
    "id": "NK1gz-7mZRCr",
    "outputId": "d76ed91c-2698-4bb7-bc8f-91802775094d"
   },
   "outputs": [
    {
     "data": {
      "text/html": [
       "<div>\n",
       "<style scoped>\n",
       "    .dataframe tbody tr th:only-of-type {\n",
       "        vertical-align: middle;\n",
       "    }\n",
       "\n",
       "    .dataframe tbody tr th {\n",
       "        vertical-align: top;\n",
       "    }\n",
       "\n",
       "    .dataframe thead th {\n",
       "        text-align: right;\n",
       "    }\n",
       "</style>\n",
       "<table border=\"1\" class=\"dataframe\">\n",
       "  <thead>\n",
       "    <tr style=\"text-align: right;\">\n",
       "      <th></th>\n",
       "      <th>Period_No</th>\n",
       "      <th>Facility_No</th>\n",
       "      <th>Facility_Category</th>\n",
       "      <th>City_Zip_Code</th>\n",
       "      <th>Operational_Region_Coverage_Area</th>\n",
       "      <th>Billing_Amount</th>\n",
       "      <th>Labelled_Price</th>\n",
       "      <th>Custom_Promoted</th>\n",
       "      <th>Promoted</th>\n",
       "      <th>Search_Promotions</th>\n",
       "      <th>Orders_Count</th>\n",
       "      <th>Course</th>\n",
       "      <th>Flavour_Profile</th>\n",
       "    </tr>\n",
       "  </thead>\n",
       "  <tbody>\n",
       "    <tr>\n",
       "      <th>0</th>\n",
       "      <td>1</td>\n",
       "      <td>324</td>\n",
       "      <td>c1</td>\n",
       "      <td>977</td>\n",
       "      <td>169</td>\n",
       "      <td>192.955562</td>\n",
       "      <td>267.971749</td>\n",
       "      <td>0</td>\n",
       "      <td>0</td>\n",
       "      <td>0</td>\n",
       "      <td>123.0</td>\n",
       "      <td>Finger Foods</td>\n",
       "      <td>Asian Fusion</td>\n",
       "    </tr>\n",
       "    <tr>\n",
       "      <th>1</th>\n",
       "      <td>1</td>\n",
       "      <td>10</td>\n",
       "      <td>c3</td>\n",
       "      <td>0</td>\n",
       "      <td>62</td>\n",
       "      <td>193.384864</td>\n",
       "      <td>203.836706</td>\n",
       "      <td>0</td>\n",
       "      <td>0</td>\n",
       "      <td>0</td>\n",
       "      <td>55.0</td>\n",
       "      <td>Broths &amp; Stews</td>\n",
       "      <td>Asian Fusion</td>\n",
       "    </tr>\n",
       "    <tr>\n",
       "      <th>2</th>\n",
       "      <td>1</td>\n",
       "      <td>99</td>\n",
       "      <td>c3</td>\n",
       "      <td>0</td>\n",
       "      <td>167</td>\n",
       "      <td>384.988183</td>\n",
       "      <td>388.957411</td>\n",
       "      <td>0</td>\n",
       "      <td>0</td>\n",
       "      <td>0</td>\n",
       "      <td>204.0</td>\n",
       "      <td>Smoothies &amp; Juices</td>\n",
       "      <td>Western</td>\n",
       "    </tr>\n",
       "    <tr>\n",
       "      <th>3</th>\n",
       "      <td>1</td>\n",
       "      <td>95</td>\n",
       "      <td>c3</td>\n",
       "      <td>17</td>\n",
       "      <td>2</td>\n",
       "      <td>255.251864</td>\n",
       "      <td>263.923874</td>\n",
       "      <td>0</td>\n",
       "      <td>0</td>\n",
       "      <td>0</td>\n",
       "      <td>257.0</td>\n",
       "      <td>Grain Bowls</td>\n",
       "      <td>South Asian</td>\n",
       "    </tr>\n",
       "    <tr>\n",
       "      <th>4</th>\n",
       "      <td>1</td>\n",
       "      <td>128</td>\n",
       "      <td>c3</td>\n",
       "      <td>17</td>\n",
       "      <td>18</td>\n",
       "      <td>319.949514</td>\n",
       "      <td>326.128813</td>\n",
       "      <td>0</td>\n",
       "      <td>0</td>\n",
       "      <td>0</td>\n",
       "      <td>14.0</td>\n",
       "      <td>Appetizers</td>\n",
       "      <td>Asian Fusion</td>\n",
       "    </tr>\n",
       "  </tbody>\n",
       "</table>\n",
       "</div>"
      ],
      "text/plain": [
       "   Period_No  Facility_No Facility_Category  City_Zip_Code  \\\n",
       "0          1          324                c1            977   \n",
       "1          1           10                c3              0   \n",
       "2          1           99                c3              0   \n",
       "3          1           95                c3             17   \n",
       "4          1          128                c3             17   \n",
       "\n",
       "   Operational_Region_Coverage_Area  Billing_Amount  Labelled_Price  \\\n",
       "0                               169      192.955562      267.971749   \n",
       "1                                62      193.384864      203.836706   \n",
       "2                               167      384.988183      388.957411   \n",
       "3                                 2      255.251864      263.923874   \n",
       "4                                18      319.949514      326.128813   \n",
       "\n",
       "   Custom_Promoted  Promoted  Search_Promotions  Orders_Count  \\\n",
       "0                0         0                  0         123.0   \n",
       "1                0         0                  0          55.0   \n",
       "2                0         0                  0         204.0   \n",
       "3                0         0                  0         257.0   \n",
       "4                0         0                  0          14.0   \n",
       "\n",
       "               Course Flavour_Profile  \n",
       "0        Finger Foods    Asian Fusion  \n",
       "1      Broths & Stews    Asian Fusion  \n",
       "2  Smoothies & Juices         Western  \n",
       "3         Grain Bowls     South Asian  \n",
       "4          Appetizers    Asian Fusion  "
      ]
     },
     "execution_count": 11,
     "metadata": {},
     "output_type": "execute_result"
    }
   ],
   "source": [
    "combined.head()"
   ]
  },
  {
   "cell_type": "code",
   "execution_count": 12,
   "metadata": {
    "colab": {
     "base_uri": "https://localhost:8080/"
    },
    "id": "Bb6rTbPwZTWZ",
    "outputId": "777cbd7f-f529-472e-ec40-8b73a449ffba"
   },
   "outputs": [
    {
     "data": {
      "text/plain": [
       "((321437, 13), (118070, 12), (439507, 13))"
      ]
     },
     "execution_count": 12,
     "metadata": {},
     "output_type": "execute_result"
    }
   ],
   "source": [
    "train.shape,test.shape,combined.shape"
   ]
  },
  {
   "cell_type": "code",
   "execution_count": 13,
   "metadata": {
    "colab": {
     "base_uri": "https://localhost:8080/"
    },
    "id": "jW-hwYhuZdDJ",
    "outputId": "61e9d664-3dd5-402d-ff06-dc41ac9b26cc"
   },
   "outputs": [
    {
     "data": {
      "text/plain": [
       "Index(['Period_No', 'Facility_No', 'City_Zip_Code',\n",
       "       'Operational_Region_Coverage_Area', 'Billing_Amount', 'Labelled_Price',\n",
       "       'Custom_Promoted', 'Promoted', 'Search_Promotions', 'Orders_Count'],\n",
       "      dtype='object')"
      ]
     },
     "execution_count": 13,
     "metadata": {},
     "output_type": "execute_result"
    }
   ],
   "source": [
    "#numerical variables\n",
    "combined.select_dtypes(include=\"number\").columns"
   ]
  },
  {
   "cell_type": "code",
   "execution_count": 14,
   "metadata": {
    "colab": {
     "base_uri": "https://localhost:8080/",
     "height": 450
    },
    "id": "x0qWPfwwZc_x",
    "outputId": "83bb62fb-9ee5-4258-f477-8d4ac775a043"
   },
   "outputs": [
    {
     "data": {
      "image/png": "[encoded data removed]",
      "text/plain": [
       "<Figure size 640x480 with 1 Axes>"
      ]
     },
     "metadata": {},
     "output_type": "display_data"
    }
   ],
   "source": [
    "#Billing amount\n",
    "sns.distplot(combined[\"Billing_Amount\"],color=\"hotpink\")\n",
    "plt.show()"
   ]
  },
  {
   "cell_type": "code",
   "execution_count": 15,
   "metadata": {
    "colab": {
     "base_uri": "https://localhost:8080/",
     "height": 335
    },
    "id": "6xkFyAOgZc5T",
    "outputId": "af64cfb5-60d2-4c5f-ab3e-28854b5fc109"
   },
   "outputs": [
    {
     "data": {
      "text/plain": [
       "count    321437.000000\n",
       "mean        261.533790\n",
       "std         383.785233\n",
       "min          13.000000\n",
       "25%          54.000000\n",
       "50%         136.000000\n",
       "75%         324.000000\n",
       "max       13150.000000\n",
       "Name: Orders_Count, dtype: float64"
      ]
     },
     "execution_count": 15,
     "metadata": {},
     "output_type": "execute_result"
    }
   ],
   "source": [
    "combined.Orders_Count.describe()"
   ]
  },
  {
   "cell_type": "code",
   "execution_count": 16,
   "metadata": {
    "colab": {
     "base_uri": "https://localhost:8080/"
    },
    "id": "0UicXl3PZc2s",
    "outputId": "11f21bc1-6098-435c-e874-41d7c4c8450c"
   },
   "outputs": [
    {
     "data": {
      "text/plain": [
       "Index(['Period_No', 'Facility_No', 'Facility_Category', 'City_Zip_Code',\n",
       "       'Operational_Region_Coverage_Area', 'Billing_Amount', 'Labelled_Price',\n",
       "       'Custom_Promoted', 'Promoted', 'Search_Promotions', 'Orders_Count',\n",
       "       'Course', 'Flavour_Profile'],\n",
       "      dtype='object')"
      ]
     },
     "execution_count": 16,
     "metadata": {},
     "output_type": "execute_result"
    }
   ],
   "source": [
    "combined.columns"
   ]
  },
  {
   "cell_type": "code",
   "execution_count": 17,
   "metadata": {
    "colab": {
     "base_uri": "https://localhost:8080/"
    },
    "id": "3yp-SiaYZc0P",
    "outputId": "d4da8669-ecf0-4467-bb7e-af57dd32a321"
   },
   "outputs": [
    {
     "data": {
      "text/plain": [
       "Index([63, 13, 87, 112, 36], dtype='int64', name='Facility_No')"
      ]
     },
     "execution_count": 17,
     "metadata": {},
     "output_type": "execute_result"
    }
   ],
   "source": [
    "#Top 5 Facilities\n",
    "combined.Facility_No.value_counts()[:5].index"
   ]
  },
  {
   "cell_type": "code",
   "execution_count": 18,
   "metadata": {
    "id": "nqpF2OwjZcxJ"
   },
   "outputs": [],
   "source": [
    "top5=[63, 13, 87, 112, 36]\n",
    "def facility(x):\n",
    "  if x in top5:\n",
    "    return (\"top5\")\n",
    "  else:\n",
    "    return (\"others\")\n",
    "combined[\"Facility\"]=combined.Facility_No.apply(facility)"
   ]
  },
  {
   "cell_type": "code",
   "execution_count": 19,
   "metadata": {
    "colab": {
     "base_uri": "https://localhost:8080/",
     "height": 449
    },
    "id": "nVyESU_yZcu2",
    "outputId": "22bc42e1-7621-46ee-8f49-04cc75a39360"
   },
   "outputs": [
    {
     "data": {
      "image/png": "[encoded data removed]",
      "text/plain": [
       "<Figure size 640x480 with 1 Axes>"
      ]
     },
     "metadata": {},
     "output_type": "display_data"
    }
   ],
   "source": [
    "sns.boxplot(x=\"Facility\",y=\"Orders_Count\",data=combined)\n",
    "plt.show()"
   ]
  },
  {
   "cell_type": "code",
   "execution_count": 20,
   "metadata": {
    "colab": {
     "base_uri": "https://localhost:8080/"
    },
    "id": "Wz7klKFpcfov",
    "outputId": "2fc8fd08-19ec-4120-97f5-6005d3b80b37"
   },
   "outputs": [
    {
     "data": {
      "text/plain": [
       "Index([62, 41, 574, 12, 1], dtype='int64', name='Operational_Region_Coverage_Area')"
      ]
     },
     "execution_count": 20,
     "metadata": {},
     "output_type": "execute_result"
    }
   ],
   "source": [
    "combined.Operational_Region_Coverage_Area.value_counts()[:5].index"
   ]
  },
  {
   "cell_type": "code",
   "execution_count": 63,
   "metadata": {
    "id": "g9ads-Qicfm_"
   },
   "outputs": [],
   "source": [
    "top5=[62, 41, 574, 12, 1]\n",
    "def ops(x):\n",
    "  if x in top5:\n",
    "    return (\"top5\")\n",
    "  else:\n",
    "    return (\"others\")\n",
    "combined[\"Op_Area\"]=combined.Operational_Region_Coverage_Area.apply(ops)"
   ]
  },
  {
   "cell_type": "code",
   "execution_count": 66,
   "metadata": {},
   "outputs": [
    {
     "data": {
      "text/plain": [
       "0         others\n",
       "1           top5\n",
       "2         others\n",
       "3         others\n",
       "4         others\n",
       "           ...  \n",
       "439502      top5\n",
       "439503      top5\n",
       "439504      top5\n",
       "439505      top5\n",
       "439506      top5\n",
       "Name: Op_Area, Length: 439507, dtype: object"
      ]
     },
     "execution_count": 66,
     "metadata": {},
     "output_type": "execute_result"
    }
   ],
   "source": [
    "combined[\"Op_Area\"]"
   ]
  },
  {
   "cell_type": "code",
   "execution_count": 64,
   "metadata": {
    "colab": {
     "base_uri": "https://localhost:8080/",
     "height": 449
    },
    "id": "CDCehYy1cfkL",
    "outputId": "8070f660-c4f2-42ab-cbf0-1f91adea278b"
   },
   "outputs": [
    {
     "data": {
      "image/png": "[encoded data removed]",
      "text/plain": [
       "<Figure size 640x480 with 1 Axes>"
      ]
     },
     "metadata": {},
     "output_type": "display_data"
    }
   ],
   "source": [
    "sns.boxplot(x=\"ops\",y=\"Orders_Count\",data=combined)\n",
    "plt.show()"
   ]
  },
  {
   "cell_type": "code",
   "execution_count": 52,
   "metadata": {
    "id": "Nx27svFFcfhf"
   },
   "outputs": [],
   "source": [
    "combined[\"promotions\"]=combined.Custom_Promoted+combined.Promoted+combined.Search_Promotions"
   ]
  },
  {
   "cell_type": "code",
   "execution_count": 53,
   "metadata": {
    "colab": {
     "base_uri": "https://localhost:8080/",
     "height": 449
    },
    "id": "u_NFeU0Dcfe9",
    "outputId": "4e52edc2-79c9-47b0-9794-92bee7c3779e"
   },
   "outputs": [
    {
     "data": {
      "image/png": "[encoded data removed]",
      "text/plain": [
       "<Figure size 640x480 with 1 Axes>"
      ]
     },
     "metadata": {},
     "output_type": "display_data"
    }
   ],
   "source": [
    "sns.boxplot(x=\"promotions\",y=\"Orders_Count\",data=combined)\n",
    "plt.show()"
   ]
  },
  {
   "cell_type": "code",
   "execution_count": 25,
   "metadata": {
    "colab": {
     "base_uri": "https://localhost:8080/",
     "height": 295
    },
    "id": "JTnvN-Rycfcc",
    "outputId": "0a55310e-5273-46a1-b02b-293a798a3101"
   },
   "outputs": [
    {
     "data": {
      "text/html": [
       "<div>\n",
       "<style scoped>\n",
       "    .dataframe tbody tr th:only-of-type {\n",
       "        vertical-align: middle;\n",
       "    }\n",
       "\n",
       "    .dataframe tbody tr th {\n",
       "        vertical-align: top;\n",
       "    }\n",
       "\n",
       "    .dataframe thead th {\n",
       "        text-align: right;\n",
       "    }\n",
       "</style>\n",
       "<table border=\"1\" class=\"dataframe\">\n",
       "  <thead>\n",
       "    <tr style=\"text-align: right;\">\n",
       "      <th></th>\n",
       "      <th>Period_No</th>\n",
       "      <th>Facility_No</th>\n",
       "      <th>Facility_Category</th>\n",
       "      <th>City_Zip_Code</th>\n",
       "      <th>Operational_Region_Coverage_Area</th>\n",
       "      <th>Billing_Amount</th>\n",
       "      <th>Labelled_Price</th>\n",
       "      <th>Custom_Promoted</th>\n",
       "      <th>Promoted</th>\n",
       "      <th>Search_Promotions</th>\n",
       "      <th>Orders_Count</th>\n",
       "      <th>Course</th>\n",
       "      <th>Flavour_Profile</th>\n",
       "      <th>Facility</th>\n",
       "      <th>ops</th>\n",
       "      <th>promotions</th>\n",
       "    </tr>\n",
       "  </thead>\n",
       "  <tbody>\n",
       "    <tr>\n",
       "      <th>0</th>\n",
       "      <td>1</td>\n",
       "      <td>324</td>\n",
       "      <td>c1</td>\n",
       "      <td>977</td>\n",
       "      <td>169</td>\n",
       "      <td>192.955562</td>\n",
       "      <td>267.971749</td>\n",
       "      <td>0</td>\n",
       "      <td>0</td>\n",
       "      <td>0</td>\n",
       "      <td>123.0</td>\n",
       "      <td>Finger Foods</td>\n",
       "      <td>Asian Fusion</td>\n",
       "      <td>others</td>\n",
       "      <td>others</td>\n",
       "      <td>0</td>\n",
       "    </tr>\n",
       "    <tr>\n",
       "      <th>1</th>\n",
       "      <td>1</td>\n",
       "      <td>10</td>\n",
       "      <td>c3</td>\n",
       "      <td>0</td>\n",
       "      <td>62</td>\n",
       "      <td>193.384864</td>\n",
       "      <td>203.836706</td>\n",
       "      <td>0</td>\n",
       "      <td>0</td>\n",
       "      <td>0</td>\n",
       "      <td>55.0</td>\n",
       "      <td>Broths &amp; Stews</td>\n",
       "      <td>Asian Fusion</td>\n",
       "      <td>others</td>\n",
       "      <td>top5</td>\n",
       "      <td>0</td>\n",
       "    </tr>\n",
       "    <tr>\n",
       "      <th>2</th>\n",
       "      <td>1</td>\n",
       "      <td>99</td>\n",
       "      <td>c3</td>\n",
       "      <td>0</td>\n",
       "      <td>167</td>\n",
       "      <td>384.988183</td>\n",
       "      <td>388.957411</td>\n",
       "      <td>0</td>\n",
       "      <td>0</td>\n",
       "      <td>0</td>\n",
       "      <td>204.0</td>\n",
       "      <td>Smoothies &amp; Juices</td>\n",
       "      <td>Western</td>\n",
       "      <td>others</td>\n",
       "      <td>others</td>\n",
       "      <td>0</td>\n",
       "    </tr>\n",
       "    <tr>\n",
       "      <th>3</th>\n",
       "      <td>1</td>\n",
       "      <td>95</td>\n",
       "      <td>c3</td>\n",
       "      <td>17</td>\n",
       "      <td>2</td>\n",
       "      <td>255.251864</td>\n",
       "      <td>263.923874</td>\n",
       "      <td>0</td>\n",
       "      <td>0</td>\n",
       "      <td>0</td>\n",
       "      <td>257.0</td>\n",
       "      <td>Grain Bowls</td>\n",
       "      <td>South Asian</td>\n",
       "      <td>others</td>\n",
       "      <td>others</td>\n",
       "      <td>0</td>\n",
       "    </tr>\n",
       "    <tr>\n",
       "      <th>4</th>\n",
       "      <td>1</td>\n",
       "      <td>128</td>\n",
       "      <td>c3</td>\n",
       "      <td>17</td>\n",
       "      <td>18</td>\n",
       "      <td>319.949514</td>\n",
       "      <td>326.128813</td>\n",
       "      <td>0</td>\n",
       "      <td>0</td>\n",
       "      <td>0</td>\n",
       "      <td>14.0</td>\n",
       "      <td>Appetizers</td>\n",
       "      <td>Asian Fusion</td>\n",
       "      <td>others</td>\n",
       "      <td>others</td>\n",
       "      <td>0</td>\n",
       "    </tr>\n",
       "  </tbody>\n",
       "</table>\n",
       "</div>"
      ],
      "text/plain": [
       "   Period_No  Facility_No Facility_Category  City_Zip_Code  \\\n",
       "0          1          324                c1            977   \n",
       "1          1           10                c3              0   \n",
       "2          1           99                c3              0   \n",
       "3          1           95                c3             17   \n",
       "4          1          128                c3             17   \n",
       "\n",
       "   Operational_Region_Coverage_Area  Billing_Amount  Labelled_Price  \\\n",
       "0                               169      192.955562      267.971749   \n",
       "1                                62      193.384864      203.836706   \n",
       "2                               167      384.988183      388.957411   \n",
       "3                                 2      255.251864      263.923874   \n",
       "4                                18      319.949514      326.128813   \n",
       "\n",
       "   Custom_Promoted  Promoted  Search_Promotions  Orders_Count  \\\n",
       "0                0         0                  0         123.0   \n",
       "1                0         0                  0          55.0   \n",
       "2                0         0                  0         204.0   \n",
       "3                0         0                  0         257.0   \n",
       "4                0         0                  0          14.0   \n",
       "\n",
       "               Course Flavour_Profile Facility     ops  promotions  \n",
       "0        Finger Foods    Asian Fusion   others  others           0  \n",
       "1      Broths & Stews    Asian Fusion   others    top5           0  \n",
       "2  Smoothies & Juices         Western   others  others           0  \n",
       "3         Grain Bowls     South Asian   others  others           0  \n",
       "4          Appetizers    Asian Fusion   others  others           0  "
      ]
     },
     "execution_count": 25,
     "metadata": {},
     "output_type": "execute_result"
    }
   ],
   "source": [
    "combined.head()"
   ]
  },
  {
   "cell_type": "code",
   "execution_count": 26,
   "metadata": {
    "colab": {
     "base_uri": "https://localhost:8080/"
    },
    "id": "MtRRTaNHcfZ5",
    "outputId": "975aa347-90f9-43ca-adc5-a0769ca65941"
   },
   "outputs": [
    {
     "data": {
      "text/plain": [
       "array(['Finger Foods', 'Broths & Stews', 'Smoothies & Juices',\n",
       "       'Grain Bowls', 'Appetizers', 'Grilled Vegetables',\n",
       "       'Sweets & Treats', 'Wraps & Rolls', 'Noodles & Veggies',\n",
       "       'Fresh Greens', 'Condiments & Dips', 'Plant-Based Proteins',\n",
       "       'Stir-Fried Rice', 'Flatbreads'], dtype=object)"
      ]
     },
     "execution_count": 26,
     "metadata": {},
     "output_type": "execute_result"
    }
   ],
   "source": [
    "combined.Course.unique()"
   ]
  },
  {
   "cell_type": "code",
   "execution_count": 27,
   "metadata": {
    "colab": {
     "base_uri": "https://localhost:8080/",
     "height": 648
    },
    "id": "1hId0XzwZcr0",
    "outputId": "fd0c1dfd-2fd5-4180-ca10-603472f0fbe7"
   },
   "outputs": [
    {
     "data": {
      "text/plain": [
       "Flavour_Profile  Course              \n",
       "Asian Fusion     Smoothies & Juices      31344\n",
       "                 Appetizers              28707\n",
       "                 Finger Foods            28244\n",
       "                 Condiments & Dips       13020\n",
       "                 Broths & Stews          12191\n",
       "Mediterranean    Smoothies & Juices      32050\n",
       "                 Wraps & Rolls           31951\n",
       "                 Fresh Greens            28398\n",
       "                 Noodles & Veggies       26523\n",
       "South Asian      Grain Bowls             32048\n",
       "                 Smoothies & Juices      28125\n",
       "                 Sweets & Treats         28107\n",
       "                 Stir-Fried Rice         19676\n",
       "Western          Flatbreads              31812\n",
       "                 Smoothies & Juices      31285\n",
       "                 Plant-Based Proteins    25905\n",
       "                 Grilled Vegetables      10121\n",
       "Name: count, dtype: int64"
      ]
     },
     "execution_count": 27,
     "metadata": {},
     "output_type": "execute_result"
    }
   ],
   "source": [
    "combined.groupby(\"Flavour_Profile\")[\"Course\"].value_counts()"
   ]
  },
  {
   "cell_type": "code",
   "execution_count": 56,
   "metadata": {
    "id": "k5Q1GC4eZcnU"
   },
   "outputs": [],
   "source": [
    "#smoothies & juices ,wraps & rolls ,grain bowls\n",
    "foods=[\"Smoothies&Juices\",\"Wraps&Rolls\",\"Grain Bowls\",\"Flatbreads\"]\n",
    "\n",
    "def khana_khazana(x):\n",
    "  if x in foods:\n",
    "    return(\"Top5_Foods\")\n",
    "  else:\n",
    "    return(\"other_Foods\")\n",
    "combined[\"Course_Cat\"]=combined.Course.apply(khana_khazana)"
   ]
  },
  {
   "cell_type": "code",
   "execution_count": 51,
   "metadata": {
    "colab": {
     "base_uri": "https://localhost:8080/",
     "height": 450
    },
    "id": "w-MsXv2nZaP1",
    "outputId": "53065848-d3ff-4e7b-fa59-ab33193de38e"
   },
   "outputs": [
    {
     "data": {
      "image/png": "[encoded data removed]",
      "text/plain": [
       "<Figure size 640x480 with 1 Axes>"
      ]
     },
     "metadata": {},
     "output_type": "display_data"
    }
   ],
   "source": [
    "sns.boxplot(x=\"Course_Cat\",y=\"Orders_Count\",data=combined)\n",
    "plt.show()"
   ]
  },
  {
   "cell_type": "code",
   "execution_count": 30,
   "metadata": {
    "colab": {
     "base_uri": "https://localhost:8080/",
     "height": 455
    },
    "id": "25jKABcLfsph",
    "outputId": "439b6e61-867e-4e2c-f139-2ceae375c578"
   },
   "outputs": [
    {
     "data": {
      "text/html": [
       "<div>\n",
       "<style scoped>\n",
       "    .dataframe tbody tr th:only-of-type {\n",
       "        vertical-align: middle;\n",
       "    }\n",
       "\n",
       "    .dataframe tbody tr th {\n",
       "        vertical-align: top;\n",
       "    }\n",
       "\n",
       "    .dataframe thead th {\n",
       "        text-align: right;\n",
       "    }\n",
       "</style>\n",
       "<table border=\"1\" class=\"dataframe\">\n",
       "  <thead>\n",
       "    <tr style=\"text-align: right;\">\n",
       "      <th></th>\n",
       "      <th>count</th>\n",
       "      <th>mean</th>\n",
       "      <th>std</th>\n",
       "      <th>min</th>\n",
       "      <th>25%</th>\n",
       "      <th>50%</th>\n",
       "      <th>75%</th>\n",
       "      <th>max</th>\n",
       "    </tr>\n",
       "    <tr>\n",
       "      <th>Facility_No</th>\n",
       "      <th></th>\n",
       "      <th></th>\n",
       "      <th></th>\n",
       "      <th></th>\n",
       "      <th></th>\n",
       "      <th></th>\n",
       "      <th></th>\n",
       "      <th></th>\n",
       "    </tr>\n",
       "  </thead>\n",
       "  <tbody>\n",
       "    <tr>\n",
       "      <th>3</th>\n",
       "      <td>3847.0</td>\n",
       "      <td>179.099038</td>\n",
       "      <td>196.578163</td>\n",
       "      <td>13.0</td>\n",
       "      <td>42.0</td>\n",
       "      <td>122.0</td>\n",
       "      <td>243.0</td>\n",
       "      <td>2052.0</td>\n",
       "    </tr>\n",
       "    <tr>\n",
       "      <th>4</th>\n",
       "      <td>3686.0</td>\n",
       "      <td>196.133749</td>\n",
       "      <td>243.226825</td>\n",
       "      <td>13.0</td>\n",
       "      <td>41.0</td>\n",
       "      <td>123.0</td>\n",
       "      <td>270.0</td>\n",
       "      <td>3523.0</td>\n",
       "    </tr>\n",
       "    <tr>\n",
       "      <th>5</th>\n",
       "      <td>4171.0</td>\n",
       "      <td>282.143131</td>\n",
       "      <td>277.867416</td>\n",
       "      <td>13.0</td>\n",
       "      <td>95.0</td>\n",
       "      <td>203.0</td>\n",
       "      <td>378.0</td>\n",
       "      <td>2753.0</td>\n",
       "    </tr>\n",
       "    <tr>\n",
       "      <th>6</th>\n",
       "      <td>3677.0</td>\n",
       "      <td>179.811803</td>\n",
       "      <td>207.581795</td>\n",
       "      <td>13.0</td>\n",
       "      <td>41.0</td>\n",
       "      <td>121.0</td>\n",
       "      <td>244.0</td>\n",
       "      <td>2970.0</td>\n",
       "    </tr>\n",
       "    <tr>\n",
       "      <th>7</th>\n",
       "      <td>4218.0</td>\n",
       "      <td>195.700806</td>\n",
       "      <td>251.982207</td>\n",
       "      <td>13.0</td>\n",
       "      <td>41.0</td>\n",
       "      <td>107.0</td>\n",
       "      <td>269.0</td>\n",
       "      <td>4227.0</td>\n",
       "    </tr>\n",
       "    <tr>\n",
       "      <th>...</th>\n",
       "      <td>...</td>\n",
       "      <td>...</td>\n",
       "      <td>...</td>\n",
       "      <td>...</td>\n",
       "      <td>...</td>\n",
       "      <td>...</td>\n",
       "      <td>...</td>\n",
       "      <td>...</td>\n",
       "    </tr>\n",
       "    <tr>\n",
       "      <th>988</th>\n",
       "      <td>4314.0</td>\n",
       "      <td>278.150672</td>\n",
       "      <td>279.311236</td>\n",
       "      <td>13.0</td>\n",
       "      <td>82.0</td>\n",
       "      <td>189.0</td>\n",
       "      <td>379.0</td>\n",
       "      <td>2957.0</td>\n",
       "    </tr>\n",
       "    <tr>\n",
       "      <th>1476</th>\n",
       "      <td>4227.0</td>\n",
       "      <td>207.433877</td>\n",
       "      <td>243.021249</td>\n",
       "      <td>13.0</td>\n",
       "      <td>54.0</td>\n",
       "      <td>134.0</td>\n",
       "      <td>284.0</td>\n",
       "      <td>3295.0</td>\n",
       "    </tr>\n",
       "    <tr>\n",
       "      <th>1836</th>\n",
       "      <td>4149.0</td>\n",
       "      <td>280.976139</td>\n",
       "      <td>448.862979</td>\n",
       "      <td>13.0</td>\n",
       "      <td>41.0</td>\n",
       "      <td>108.0</td>\n",
       "      <td>379.0</td>\n",
       "      <td>7073.0</td>\n",
       "    </tr>\n",
       "    <tr>\n",
       "      <th>9256</th>\n",
       "      <td>4408.0</td>\n",
       "      <td>186.221869</td>\n",
       "      <td>210.528368</td>\n",
       "      <td>13.0</td>\n",
       "      <td>42.0</td>\n",
       "      <td>121.0</td>\n",
       "      <td>257.0</td>\n",
       "      <td>3402.0</td>\n",
       "    </tr>\n",
       "    <tr>\n",
       "      <th>12390</th>\n",
       "      <td>2818.0</td>\n",
       "      <td>125.646558</td>\n",
       "      <td>195.270314</td>\n",
       "      <td>13.0</td>\n",
       "      <td>40.0</td>\n",
       "      <td>81.0</td>\n",
       "      <td>149.0</td>\n",
       "      <td>2645.0</td>\n",
       "    </tr>\n",
       "  </tbody>\n",
       "</table>\n",
       "<p>77 rows × 8 columns</p>\n",
       "</div>"
      ],
      "text/plain": [
       "              count        mean         std   min   25%    50%    75%     max\n",
       "Facility_No                                                                  \n",
       "3            3847.0  179.099038  196.578163  13.0  42.0  122.0  243.0  2052.0\n",
       "4            3686.0  196.133749  243.226825  13.0  41.0  123.0  270.0  3523.0\n",
       "5            4171.0  282.143131  277.867416  13.0  95.0  203.0  378.0  2753.0\n",
       "6            3677.0  179.811803  207.581795  13.0  41.0  121.0  244.0  2970.0\n",
       "7            4218.0  195.700806  251.982207  13.0  41.0  107.0  269.0  4227.0\n",
       "...             ...         ...         ...   ...   ...    ...    ...     ...\n",
       "988          4314.0  278.150672  279.311236  13.0  82.0  189.0  379.0  2957.0\n",
       "1476         4227.0  207.433877  243.021249  13.0  54.0  134.0  284.0  3295.0\n",
       "1836         4149.0  280.976139  448.862979  13.0  41.0  108.0  379.0  7073.0\n",
       "9256         4408.0  186.221869  210.528368  13.0  42.0  121.0  257.0  3402.0\n",
       "12390        2818.0  125.646558  195.270314  13.0  40.0   81.0  149.0  2645.0\n",
       "\n",
       "[77 rows x 8 columns]"
      ]
     },
     "execution_count": 30,
     "metadata": {},
     "output_type": "execute_result"
    }
   ],
   "source": [
    "#Facility NO\n",
    "# Facility No\n",
    "combined.Facility_No.unique()\n",
    "combined.groupby(\"Facility_No\")[\"Orders_Count\"].describe()"
   ]
  },
  {
   "cell_type": "code",
   "execution_count": 31,
   "metadata": {
    "colab": {
     "base_uri": "https://localhost:8080/",
     "height": 331
    },
    "id": "8T-AFQXPfsju",
    "outputId": "706b7b7f-3e61-4816-9c0c-f659d208a0ee"
   },
   "outputs": [
    {
     "data": {
      "text/html": [
       "<div>\n",
       "<style scoped>\n",
       "    .dataframe tbody tr th:only-of-type {\n",
       "        vertical-align: middle;\n",
       "    }\n",
       "\n",
       "    .dataframe tbody tr th {\n",
       "        vertical-align: top;\n",
       "    }\n",
       "\n",
       "    .dataframe thead th {\n",
       "        text-align: right;\n",
       "    }\n",
       "</style>\n",
       "<table border=\"1\" class=\"dataframe\">\n",
       "  <thead>\n",
       "    <tr style=\"text-align: right;\">\n",
       "      <th></th>\n",
       "      <th>count</th>\n",
       "      <th>mean</th>\n",
       "      <th>std</th>\n",
       "      <th>min</th>\n",
       "      <th>25%</th>\n",
       "      <th>50%</th>\n",
       "      <th>75%</th>\n",
       "      <th>max</th>\n",
       "    </tr>\n",
       "    <tr>\n",
       "      <th>City_Zip_Code</th>\n",
       "      <th></th>\n",
       "      <th></th>\n",
       "      <th></th>\n",
       "      <th></th>\n",
       "      <th></th>\n",
       "      <th></th>\n",
       "      <th></th>\n",
       "      <th></th>\n",
       "    </tr>\n",
       "  </thead>\n",
       "  <tbody>\n",
       "    <tr>\n",
       "      <th>0</th>\n",
       "      <td>134451.0</td>\n",
       "      <td>318.114131</td>\n",
       "      <td>464.342597</td>\n",
       "      <td>13.0</td>\n",
       "      <td>55.0</td>\n",
       "      <td>161.0</td>\n",
       "      <td>404.0</td>\n",
       "      <td>13150.0</td>\n",
       "    </tr>\n",
       "    <tr>\n",
       "      <th>17</th>\n",
       "      <td>81986.0</td>\n",
       "      <td>203.351487</td>\n",
       "      <td>263.878412</td>\n",
       "      <td>13.0</td>\n",
       "      <td>53.0</td>\n",
       "      <td>122.0</td>\n",
       "      <td>269.0</td>\n",
       "      <td>6426.0</td>\n",
       "    </tr>\n",
       "    <tr>\n",
       "      <th>153</th>\n",
       "      <td>4511.0</td>\n",
       "      <td>245.492795</td>\n",
       "      <td>344.797660</td>\n",
       "      <td>13.0</td>\n",
       "      <td>42.0</td>\n",
       "      <td>109.0</td>\n",
       "      <td>323.5</td>\n",
       "      <td>3849.0</td>\n",
       "    </tr>\n",
       "    <tr>\n",
       "      <th>357</th>\n",
       "      <td>4041.0</td>\n",
       "      <td>235.813660</td>\n",
       "      <td>489.664875</td>\n",
       "      <td>13.0</td>\n",
       "      <td>53.0</td>\n",
       "      <td>121.0</td>\n",
       "      <td>256.0</td>\n",
       "      <td>9303.0</td>\n",
       "    </tr>\n",
       "    <tr>\n",
       "      <th>582</th>\n",
       "      <td>21943.0</td>\n",
       "      <td>286.437224</td>\n",
       "      <td>385.943459</td>\n",
       "      <td>13.0</td>\n",
       "      <td>55.0</td>\n",
       "      <td>149.0</td>\n",
       "      <td>365.0</td>\n",
       "      <td>7073.0</td>\n",
       "    </tr>\n",
       "    <tr>\n",
       "      <th>601</th>\n",
       "      <td>3671.0</td>\n",
       "      <td>121.629256</td>\n",
       "      <td>132.423545</td>\n",
       "      <td>13.0</td>\n",
       "      <td>28.0</td>\n",
       "      <td>81.0</td>\n",
       "      <td>175.0</td>\n",
       "      <td>1849.0</td>\n",
       "    </tr>\n",
       "    <tr>\n",
       "      <th>863</th>\n",
       "      <td>4474.0</td>\n",
       "      <td>334.867456</td>\n",
       "      <td>535.232145</td>\n",
       "      <td>13.0</td>\n",
       "      <td>54.0</td>\n",
       "      <td>134.0</td>\n",
       "      <td>432.0</td>\n",
       "      <td>7155.0</td>\n",
       "    </tr>\n",
       "    <tr>\n",
       "      <th>977</th>\n",
       "      <td>66360.0</td>\n",
       "      <td>215.997107</td>\n",
       "      <td>289.687066</td>\n",
       "      <td>13.0</td>\n",
       "      <td>53.0</td>\n",
       "      <td>134.0</td>\n",
       "      <td>284.0</td>\n",
       "      <td>9532.0</td>\n",
       "    </tr>\n",
       "  </tbody>\n",
       "</table>\n",
       "</div>"
      ],
      "text/plain": [
       "                  count        mean         std   min   25%    50%    75%  \\\n",
       "City_Zip_Code                                                               \n",
       "0              134451.0  318.114131  464.342597  13.0  55.0  161.0  404.0   \n",
       "17              81986.0  203.351487  263.878412  13.0  53.0  122.0  269.0   \n",
       "153              4511.0  245.492795  344.797660  13.0  42.0  109.0  323.5   \n",
       "357              4041.0  235.813660  489.664875  13.0  53.0  121.0  256.0   \n",
       "582             21943.0  286.437224  385.943459  13.0  55.0  149.0  365.0   \n",
       "601              3671.0  121.629256  132.423545  13.0  28.0   81.0  175.0   \n",
       "863              4474.0  334.867456  535.232145  13.0  54.0  134.0  432.0   \n",
       "977             66360.0  215.997107  289.687066  13.0  53.0  134.0  284.0   \n",
       "\n",
       "                   max  \n",
       "City_Zip_Code           \n",
       "0              13150.0  \n",
       "17              6426.0  \n",
       "153             3849.0  \n",
       "357             9303.0  \n",
       "582             7073.0  \n",
       "601             1849.0  \n",
       "863             7155.0  \n",
       "977             9532.0  "
      ]
     },
     "execution_count": 31,
     "metadata": {},
     "output_type": "execute_result"
    }
   ],
   "source": [
    "combined.groupby(\"City_Zip_Code\")[\"Orders_Count\"].describe()"
   ]
  },
  {
   "cell_type": "code",
   "execution_count": 32,
   "metadata": {
    "id": "PaFwJ6I-gFnD"
   },
   "outputs": [],
   "source": [
    "combined[\"Magic1\"]=combined.groupby(\"Facility_No\")[\"Orders_Count\"].transform(\"count\")\n",
    "\n",
    "combined[\"Magic2\"]=combined.groupby(\"Facility_No\")[\"Orders_Count\"].transform(\"min\")\n",
    "\n",
    "combined[\"Magic3\"]=combined.groupby(\"Facility_No\")[\"Orders_Count\"].transform(\"max\")\n",
    "\n",
    "combined[\"Magic4\"]=combined.groupby(\"Facility_No\")[\"Orders_Count\"].transform(\"mean\")\n",
    "\n",
    "combined[\"Magic5\"]=combined.groupby(\"Facility_No\")[\"Orders_Count\"].transform(\"median\")\n",
    "\n",
    "combined[\"Magic6\"]=combined.groupby(\"Facility_No\")[\"Orders_Count\"].transform(\"std\")"
   ]
  },
  {
   "cell_type": "code",
   "execution_count": 33,
   "metadata": {
    "colab": {
     "base_uri": "https://localhost:8080/",
     "height": 331
    },
    "id": "V_Ba47JxfshF",
    "outputId": "b0fae25e-f987-49b6-b57a-32750a572012"
   },
   "outputs": [
    {
     "data": {
      "text/html": [
       "<div>\n",
       "<style scoped>\n",
       "    .dataframe tbody tr th:only-of-type {\n",
       "        vertical-align: middle;\n",
       "    }\n",
       "\n",
       "    .dataframe tbody tr th {\n",
       "        vertical-align: top;\n",
       "    }\n",
       "\n",
       "    .dataframe thead th {\n",
       "        text-align: right;\n",
       "    }\n",
       "</style>\n",
       "<table border=\"1\" class=\"dataframe\">\n",
       "  <thead>\n",
       "    <tr style=\"text-align: right;\">\n",
       "      <th></th>\n",
       "      <th>count</th>\n",
       "      <th>mean</th>\n",
       "      <th>std</th>\n",
       "      <th>min</th>\n",
       "      <th>25%</th>\n",
       "      <th>50%</th>\n",
       "      <th>75%</th>\n",
       "      <th>max</th>\n",
       "    </tr>\n",
       "    <tr>\n",
       "      <th>City_Zip_Code</th>\n",
       "      <th></th>\n",
       "      <th></th>\n",
       "      <th></th>\n",
       "      <th></th>\n",
       "      <th></th>\n",
       "      <th></th>\n",
       "      <th></th>\n",
       "      <th></th>\n",
       "    </tr>\n",
       "  </thead>\n",
       "  <tbody>\n",
       "    <tr>\n",
       "      <th>0</th>\n",
       "      <td>134451.0</td>\n",
       "      <td>318.114131</td>\n",
       "      <td>464.342597</td>\n",
       "      <td>13.0</td>\n",
       "      <td>55.0</td>\n",
       "      <td>161.0</td>\n",
       "      <td>404.0</td>\n",
       "      <td>13150.0</td>\n",
       "    </tr>\n",
       "    <tr>\n",
       "      <th>17</th>\n",
       "      <td>81986.0</td>\n",
       "      <td>203.351487</td>\n",
       "      <td>263.878412</td>\n",
       "      <td>13.0</td>\n",
       "      <td>53.0</td>\n",
       "      <td>122.0</td>\n",
       "      <td>269.0</td>\n",
       "      <td>6426.0</td>\n",
       "    </tr>\n",
       "    <tr>\n",
       "      <th>153</th>\n",
       "      <td>4511.0</td>\n",
       "      <td>245.492795</td>\n",
       "      <td>344.797660</td>\n",
       "      <td>13.0</td>\n",
       "      <td>42.0</td>\n",
       "      <td>109.0</td>\n",
       "      <td>323.5</td>\n",
       "      <td>3849.0</td>\n",
       "    </tr>\n",
       "    <tr>\n",
       "      <th>357</th>\n",
       "      <td>4041.0</td>\n",
       "      <td>235.813660</td>\n",
       "      <td>489.664875</td>\n",
       "      <td>13.0</td>\n",
       "      <td>53.0</td>\n",
       "      <td>121.0</td>\n",
       "      <td>256.0</td>\n",
       "      <td>9303.0</td>\n",
       "    </tr>\n",
       "    <tr>\n",
       "      <th>582</th>\n",
       "      <td>21943.0</td>\n",
       "      <td>286.437224</td>\n",
       "      <td>385.943459</td>\n",
       "      <td>13.0</td>\n",
       "      <td>55.0</td>\n",
       "      <td>149.0</td>\n",
       "      <td>365.0</td>\n",
       "      <td>7073.0</td>\n",
       "    </tr>\n",
       "    <tr>\n",
       "      <th>601</th>\n",
       "      <td>3671.0</td>\n",
       "      <td>121.629256</td>\n",
       "      <td>132.423545</td>\n",
       "      <td>13.0</td>\n",
       "      <td>28.0</td>\n",
       "      <td>81.0</td>\n",
       "      <td>175.0</td>\n",
       "      <td>1849.0</td>\n",
       "    </tr>\n",
       "    <tr>\n",
       "      <th>863</th>\n",
       "      <td>4474.0</td>\n",
       "      <td>334.867456</td>\n",
       "      <td>535.232145</td>\n",
       "      <td>13.0</td>\n",
       "      <td>54.0</td>\n",
       "      <td>134.0</td>\n",
       "      <td>432.0</td>\n",
       "      <td>7155.0</td>\n",
       "    </tr>\n",
       "    <tr>\n",
       "      <th>977</th>\n",
       "      <td>66360.0</td>\n",
       "      <td>215.997107</td>\n",
       "      <td>289.687066</td>\n",
       "      <td>13.0</td>\n",
       "      <td>53.0</td>\n",
       "      <td>134.0</td>\n",
       "      <td>284.0</td>\n",
       "      <td>9532.0</td>\n",
       "    </tr>\n",
       "  </tbody>\n",
       "</table>\n",
       "</div>"
      ],
      "text/plain": [
       "                  count        mean         std   min   25%    50%    75%  \\\n",
       "City_Zip_Code                                                               \n",
       "0              134451.0  318.114131  464.342597  13.0  55.0  161.0  404.0   \n",
       "17              81986.0  203.351487  263.878412  13.0  53.0  122.0  269.0   \n",
       "153              4511.0  245.492795  344.797660  13.0  42.0  109.0  323.5   \n",
       "357              4041.0  235.813660  489.664875  13.0  53.0  121.0  256.0   \n",
       "582             21943.0  286.437224  385.943459  13.0  55.0  149.0  365.0   \n",
       "601              3671.0  121.629256  132.423545  13.0  28.0   81.0  175.0   \n",
       "863              4474.0  334.867456  535.232145  13.0  54.0  134.0  432.0   \n",
       "977             66360.0  215.997107  289.687066  13.0  53.0  134.0  284.0   \n",
       "\n",
       "                   max  \n",
       "City_Zip_Code           \n",
       "0              13150.0  \n",
       "17              6426.0  \n",
       "153             3849.0  \n",
       "357             9303.0  \n",
       "582             7073.0  \n",
       "601             1849.0  \n",
       "863             7155.0  \n",
       "977             9532.0  "
      ]
     },
     "execution_count": 33,
     "metadata": {},
     "output_type": "execute_result"
    }
   ],
   "source": [
    "combined.groupby(\"City_Zip_Code\")[\"Orders_Count\"].describe()"
   ]
  },
  {
   "cell_type": "code",
   "execution_count": 34,
   "metadata": {
    "id": "wUEdKuLpfsei"
   },
   "outputs": [],
   "source": [
    "combined[\"Magic7\"]=combined.groupby(\"City_Zip_Code\")[\"Orders_Count\"].transform(\"count\")\n",
    "\n",
    "combined[\"Magic8\"]=combined.groupby(\"City_Zip_Code\")[\"Orders_Count\"].transform(\"min\")\n",
    "\n",
    "combined[\"Magic9\"]=combined.groupby(\"City_Zip_Code\")[\"Orders_Count\"].transform(\"max\")\n",
    "\n",
    "combined[\"Magic10\"]=combined.groupby(\"City_Zip_Code\")[\"Orders_Count\"].transform(\"mean\")\n",
    "\n",
    "combined[\"Magic11\"]=combined.groupby(\"City_Zip_Code\")[\"Orders_Count\"].transform(\"median\")\n",
    "\n",
    "combined[\"Magic12\"]=combined.groupby(\"City_Zip_Code\")[\"Orders_Count\"].transform(\"std\")\n"
   ]
  },
  {
   "cell_type": "code",
   "execution_count": 35,
   "metadata": {
    "id": "UF2zcqeMfsc_"
   },
   "outputs": [],
   "source": [
    "combined[\"Magic13\"]=combined.groupby(\"Course\")[\"Orders_Count\"].transform(\"count\")\n",
    "\n",
    "combined[\"Magic14\"]=combined.groupby(\"Course\")[\"Orders_Count\"].transform(\"min\")\n",
    "\n",
    "combined[\"Magic15\"]=combined.groupby(\"Course\")[\"Orders_Count\"].transform(\"max\")\n",
    "\n",
    "combined[\"Magic16\"]=combined.groupby(\"Course\")[\"Orders_Count\"].transform(\"mean\")\n",
    "\n",
    "combined[\"Magic17\"]=combined.groupby(\"Course\")[\"Orders_Count\"].transform(\"median\")\n",
    "\n",
    "combined[\"Magic18\"]=combined.groupby(\"Course\")[\"Orders_Count\"].transform(\"std\")\n"
   ]
  },
  {
   "cell_type": "code",
   "execution_count": 36,
   "metadata": {
    "id": "AaO25lAdfsaU"
   },
   "outputs": [],
   "source": [
    "combined[\"Magic19\"]=combined.groupby(\"Operational_Region_Coverage_Area\")[\"Orders_Count\"].transform(\"count\")\n",
    "combined[\"Magic20\"]=combined.groupby(\"Operational_Region_Coverage_Area\")[\"Orders_Count\"].transform(\"min\")\n",
    "combined[\"Magic21\"]=combined.groupby(\"Operational_Region_Coverage_Area\")[\"Orders_Count\"].transform(\"max\")\n",
    "combined[\"Magic22\"]=combined.groupby(\"Operational_Region_Coverage_Area\")[\"Orders_Count\"].transform(\"mean\")\n",
    "combined[\"Magic23\"]=combined.groupby(\"Operational_Region_Coverage_Area\")[\"Orders_Count\"].transform(\"median\")\n",
    "combined[\"Magic24\"]=combined.groupby(\"Operational_Region_Coverage_Area\")[\"Orders_Count\"].transform(\"std\")"
   ]
  },
  {
   "cell_type": "code",
   "execution_count": 37,
   "metadata": {
    "colab": {
     "base_uri": "https://localhost:8080/",
     "height": 184
    },
    "id": "oFjeH4jxfsXh",
    "outputId": "4ddeafac-f7a9-4e64-95a1-e4d2402c1b48"
   },
   "outputs": [
    {
     "data": {
      "text/html": [
       "<div>\n",
       "<style scoped>\n",
       "    .dataframe tbody tr th:only-of-type {\n",
       "        vertical-align: middle;\n",
       "    }\n",
       "\n",
       "    .dataframe tbody tr th {\n",
       "        vertical-align: top;\n",
       "    }\n",
       "\n",
       "    .dataframe thead th {\n",
       "        text-align: right;\n",
       "    }\n",
       "</style>\n",
       "<table border=\"1\" class=\"dataframe\">\n",
       "  <thead>\n",
       "    <tr style=\"text-align: right;\">\n",
       "      <th></th>\n",
       "      <th>Period_No</th>\n",
       "      <th>Facility_No</th>\n",
       "      <th>Facility_Category</th>\n",
       "      <th>City_Zip_Code</th>\n",
       "      <th>Operational_Region_Coverage_Area</th>\n",
       "      <th>Billing_Amount</th>\n",
       "      <th>Labelled_Price</th>\n",
       "      <th>Custom_Promoted</th>\n",
       "      <th>Promoted</th>\n",
       "      <th>Search_Promotions</th>\n",
       "      <th>Orders_Count</th>\n",
       "      <th>Course</th>\n",
       "      <th>Flavour_Profile</th>\n",
       "      <th>Facility</th>\n",
       "      <th>ops</th>\n",
       "      <th>promotions</th>\n",
       "      <th>Course_cat</th>\n",
       "      <th>Magic1</th>\n",
       "      <th>Magic2</th>\n",
       "      <th>Magic3</th>\n",
       "      <th>Magic4</th>\n",
       "      <th>Magic5</th>\n",
       "      <th>Magic6</th>\n",
       "      <th>Magic7</th>\n",
       "      <th>Magic8</th>\n",
       "      <th>Magic9</th>\n",
       "      <th>Magic10</th>\n",
       "      <th>Magic11</th>\n",
       "      <th>Magic12</th>\n",
       "      <th>Magic13</th>\n",
       "      <th>Magic14</th>\n",
       "      <th>Magic15</th>\n",
       "      <th>Magic16</th>\n",
       "      <th>Magic17</th>\n",
       "      <th>Magic18</th>\n",
       "      <th>Magic19</th>\n",
       "      <th>Magic20</th>\n",
       "      <th>Magic21</th>\n",
       "      <th>Magic22</th>\n",
       "      <th>Magic23</th>\n",
       "      <th>Magic24</th>\n",
       "    </tr>\n",
       "  </thead>\n",
       "  <tbody>\n",
       "    <tr>\n",
       "      <th>0</th>\n",
       "      <td>1</td>\n",
       "      <td>324</td>\n",
       "      <td>c1</td>\n",
       "      <td>977</td>\n",
       "      <td>169</td>\n",
       "      <td>192.955562</td>\n",
       "      <td>267.971749</td>\n",
       "      <td>0</td>\n",
       "      <td>0</td>\n",
       "      <td>0</td>\n",
       "      <td>123.0</td>\n",
       "      <td>Finger Foods</td>\n",
       "      <td>Asian Fusion</td>\n",
       "      <td>others</td>\n",
       "      <td>others</td>\n",
       "      <td>0</td>\n",
       "      <td>other_Foods</td>\n",
       "      <td>4118</td>\n",
       "      <td>13.0</td>\n",
       "      <td>3374.0</td>\n",
       "      <td>207.096163</td>\n",
       "      <td>134.0</td>\n",
       "      <td>258.871277</td>\n",
       "      <td>66360</td>\n",
       "      <td>13.0</td>\n",
       "      <td>9532.0</td>\n",
       "      <td>215.997107</td>\n",
       "      <td>134.0</td>\n",
       "      <td>289.687066</td>\n",
       "      <td>20895</td>\n",
       "      <td>13.0</td>\n",
       "      <td>2404.0</td>\n",
       "      <td>164.194783</td>\n",
       "      <td>121.0</td>\n",
       "      <td>164.063729</td>\n",
       "      <td>18103</td>\n",
       "      <td>13.0</td>\n",
       "      <td>10544.0</td>\n",
       "      <td>313.646523</td>\n",
       "      <td>148.0</td>\n",
       "      <td>473.337118</td>\n",
       "    </tr>\n",
       "    <tr>\n",
       "      <th>1</th>\n",
       "      <td>1</td>\n",
       "      <td>10</td>\n",
       "      <td>c3</td>\n",
       "      <td>0</td>\n",
       "      <td>62</td>\n",
       "      <td>193.384864</td>\n",
       "      <td>203.836706</td>\n",
       "      <td>0</td>\n",
       "      <td>0</td>\n",
       "      <td>0</td>\n",
       "      <td>55.0</td>\n",
       "      <td>Broths &amp; Stews</td>\n",
       "      <td>Asian Fusion</td>\n",
       "      <td>others</td>\n",
       "      <td>top5</td>\n",
       "      <td>0</td>\n",
       "      <td>other_Foods</td>\n",
       "      <td>4298</td>\n",
       "      <td>13.0</td>\n",
       "      <td>7088.0</td>\n",
       "      <td>257.586087</td>\n",
       "      <td>109.0</td>\n",
       "      <td>430.839680</td>\n",
       "      <td>134451</td>\n",
       "      <td>13.0</td>\n",
       "      <td>13150.0</td>\n",
       "      <td>318.114131</td>\n",
       "      <td>161.0</td>\n",
       "      <td>464.342597</td>\n",
       "      <td>8889</td>\n",
       "      <td>13.0</td>\n",
       "      <td>689.0</td>\n",
       "      <td>88.900551</td>\n",
       "      <td>68.0</td>\n",
       "      <td>72.350096</td>\n",
       "      <td>36987</td>\n",
       "      <td>13.0</td>\n",
       "      <td>9532.0</td>\n",
       "      <td>222.396247</td>\n",
       "      <td>122.0</td>\n",
       "      <td>329.431315</td>\n",
       "    </tr>\n",
       "  </tbody>\n",
       "</table>\n",
       "</div>"
      ],
      "text/plain": [
       "   Period_No  Facility_No Facility_Category  City_Zip_Code  \\\n",
       "0          1          324                c1            977   \n",
       "1          1           10                c3              0   \n",
       "\n",
       "   Operational_Region_Coverage_Area  Billing_Amount  Labelled_Price  \\\n",
       "0                               169      192.955562      267.971749   \n",
       "1                                62      193.384864      203.836706   \n",
       "\n",
       "   Custom_Promoted  Promoted  Search_Promotions  Orders_Count          Course  \\\n",
       "0                0         0                  0         123.0    Finger Foods   \n",
       "1                0         0                  0          55.0  Broths & Stews   \n",
       "\n",
       "  Flavour_Profile Facility     ops  promotions   Course_cat  Magic1  Magic2  \\\n",
       "0    Asian Fusion   others  others           0  other_Foods    4118    13.0   \n",
       "1    Asian Fusion   others    top5           0  other_Foods    4298    13.0   \n",
       "\n",
       "   Magic3      Magic4  Magic5      Magic6  Magic7  Magic8   Magic9  \\\n",
       "0  3374.0  207.096163   134.0  258.871277   66360    13.0   9532.0   \n",
       "1  7088.0  257.586087   109.0  430.839680  134451    13.0  13150.0   \n",
       "\n",
       "      Magic10  Magic11     Magic12  Magic13  Magic14  Magic15     Magic16  \\\n",
       "0  215.997107    134.0  289.687066    20895     13.0   2404.0  164.194783   \n",
       "1  318.114131    161.0  464.342597     8889     13.0    689.0   88.900551   \n",
       "\n",
       "   Magic17     Magic18  Magic19  Magic20  Magic21     Magic22  Magic23  \\\n",
       "0    121.0  164.063729    18103     13.0  10544.0  313.646523    148.0   \n",
       "1     68.0   72.350096    36987     13.0   9532.0  222.396247    122.0   \n",
       "\n",
       "      Magic24  \n",
       "0  473.337118  \n",
       "1  329.431315  "
      ]
     },
     "execution_count": 37,
     "metadata": {},
     "output_type": "execute_result"
    }
   ],
   "source": [
    "pd.set_option(\"display.max_columns\",50)\n",
    "combined.head(2)"
   ]
  },
  {
   "cell_type": "code",
   "execution_count": 38,
   "metadata": {
    "colab": {
     "base_uri": "https://localhost:8080/"
    },
    "id": "KmtL7iUufsVB",
    "outputId": "049b9edc-02be-40fa-c46d-92d7cb054f27"
   },
   "outputs": [
    {
     "data": {
      "text/plain": [
       "Index(['Period_No', 'Facility_No', 'Facility_Category', 'City_Zip_Code',\n",
       "       'Operational_Region_Coverage_Area', 'Billing_Amount', 'Labelled_Price',\n",
       "       'Custom_Promoted', 'Promoted', 'Search_Promotions', 'Orders_Count',\n",
       "       'Course', 'Flavour_Profile', 'Facility', 'ops', 'promotions',\n",
       "       'Course_cat', 'Magic1', 'Magic2', 'Magic3', 'Magic4', 'Magic5',\n",
       "       'Magic6', 'Magic7', 'Magic8', 'Magic9', 'Magic10', 'Magic11', 'Magic12',\n",
       "       'Magic13', 'Magic14', 'Magic15', 'Magic16', 'Magic17', 'Magic18',\n",
       "       'Magic19', 'Magic20', 'Magic21', 'Magic22', 'Magic23', 'Magic24'],\n",
       "      dtype='object')"
      ]
     },
     "execution_count": 38,
     "metadata": {},
     "output_type": "execute_result"
    }
   ],
   "source": [
    "combined.columns"
   ]
  },
  {
   "cell_type": "code",
   "execution_count": 39,
   "metadata": {
    "id": "Y2NMOH7bfsQS"
   },
   "outputs": [],
   "source": [
    "#period_no is time series data\n",
    "new=combined.drop(['Period_No', 'Facility_No', 'Facility_Category', 'City_Zip_Code',\n",
    "       'Operational_Region_Coverage_Area','Custom_Promoted', 'Promoted', 'Search_Promotions','Course'],axis=1)"
   ]
  },
  {
   "cell_type": "code",
   "execution_count": 40,
   "metadata": {
    "id": "n8lYbL9EjKzB"
   },
   "outputs": [],
   "source": [
    "#split the data into train and test\n",
    "newtrain=new.loc[0:train.shape[0]-1,:]\n",
    "newtest=new.loc[train.shape[0]:,:]"
   ]
  },
  {
   "cell_type": "code",
   "execution_count": 41,
   "metadata": {
    "id": "6qQ_G4LSjKva"
   },
   "outputs": [],
   "source": [
    "nums=[ 'Billing_Amount', 'Labelled_Price',\n",
    "      'Magic1', 'Magic2', 'Magic3', 'Magic4', 'Magic5',\n",
    "       'Magic6', 'Magic7', 'Magic8', 'Magic9', 'Magic10', 'Magic11', 'Magic12',\n",
    "       'Magic13', 'Magic14', 'Magic15', 'Magic16', 'Magic17', 'Magic18',\n",
    "       'Magic19', 'Magic20', 'Magic21', 'Magic22', 'Magic23', 'Magic24']"
   ]
  },
  {
   "cell_type": "code",
   "execution_count": 42,
   "metadata": {
    "id": "j5RSxFYTjKp7"
   },
   "outputs": [],
   "source": [
    "import scipy.stats as stats\n",
    "pvals=[]\n",
    "\n",
    "for i in nums:\n",
    "  tstat,pval=stats.ttest_ind(newtrain.loc[:,i],newtrain.Orders_Count)\n",
    "  pvals.append(pval)"
   ]
  },
  {
   "cell_type": "code",
   "execution_count": 43,
   "metadata": {
    "colab": {
     "base_uri": "https://localhost:8080/",
     "height": 864
    },
    "id": "ZelKedNJjKlR",
    "outputId": "78b7954f-6683-4d02-f902-1e624c94e467"
   },
   "outputs": [
    {
     "data": {
      "text/html": [
       "<div>\n",
       "<style scoped>\n",
       "    .dataframe tbody tr th:only-of-type {\n",
       "        vertical-align: middle;\n",
       "    }\n",
       "\n",
       "    .dataframe tbody tr th {\n",
       "        vertical-align: top;\n",
       "    }\n",
       "\n",
       "    .dataframe thead th {\n",
       "        text-align: right;\n",
       "    }\n",
       "</style>\n",
       "<table border=\"1\" class=\"dataframe\">\n",
       "  <thead>\n",
       "    <tr style=\"text-align: right;\">\n",
       "      <th></th>\n",
       "      <th>Pvalue</th>\n",
       "    </tr>\n",
       "  </thead>\n",
       "  <tbody>\n",
       "    <tr>\n",
       "      <th>Billing_Amount</th>\n",
       "      <td>0.0</td>\n",
       "    </tr>\n",
       "    <tr>\n",
       "      <th>Labelled_Price</th>\n",
       "      <td>0.0</td>\n",
       "    </tr>\n",
       "    <tr>\n",
       "      <th>Magic1</th>\n",
       "      <td>0.0</td>\n",
       "    </tr>\n",
       "    <tr>\n",
       "      <th>Magic2</th>\n",
       "      <td>0.0</td>\n",
       "    </tr>\n",
       "    <tr>\n",
       "      <th>Magic3</th>\n",
       "      <td>0.0</td>\n",
       "    </tr>\n",
       "    <tr>\n",
       "      <th>Magic4</th>\n",
       "      <td>0.0</td>\n",
       "    </tr>\n",
       "    <tr>\n",
       "      <th>Magic5</th>\n",
       "      <td>0.0</td>\n",
       "    </tr>\n",
       "    <tr>\n",
       "      <th>Magic6</th>\n",
       "      <td>0.0</td>\n",
       "    </tr>\n",
       "    <tr>\n",
       "      <th>Magic7</th>\n",
       "      <td>0.0</td>\n",
       "    </tr>\n",
       "    <tr>\n",
       "      <th>Magic8</th>\n",
       "      <td>0.0</td>\n",
       "    </tr>\n",
       "    <tr>\n",
       "      <th>Magic9</th>\n",
       "      <td>0.0</td>\n",
       "    </tr>\n",
       "    <tr>\n",
       "      <th>Magic10</th>\n",
       "      <td>0.0</td>\n",
       "    </tr>\n",
       "    <tr>\n",
       "      <th>Magic11</th>\n",
       "      <td>0.0</td>\n",
       "    </tr>\n",
       "    <tr>\n",
       "      <th>Magic12</th>\n",
       "      <td>0.0</td>\n",
       "    </tr>\n",
       "    <tr>\n",
       "      <th>Magic13</th>\n",
       "      <td>0.0</td>\n",
       "    </tr>\n",
       "    <tr>\n",
       "      <th>Magic14</th>\n",
       "      <td>0.0</td>\n",
       "    </tr>\n",
       "    <tr>\n",
       "      <th>Magic15</th>\n",
       "      <td>0.0</td>\n",
       "    </tr>\n",
       "    <tr>\n",
       "      <th>Magic16</th>\n",
       "      <td>0.0</td>\n",
       "    </tr>\n",
       "    <tr>\n",
       "      <th>Magic17</th>\n",
       "      <td>0.0</td>\n",
       "    </tr>\n",
       "    <tr>\n",
       "      <th>Magic18</th>\n",
       "      <td>0.0</td>\n",
       "    </tr>\n",
       "    <tr>\n",
       "      <th>Magic19</th>\n",
       "      <td>0.0</td>\n",
       "    </tr>\n",
       "    <tr>\n",
       "      <th>Magic20</th>\n",
       "      <td>0.0</td>\n",
       "    </tr>\n",
       "    <tr>\n",
       "      <th>Magic21</th>\n",
       "      <td>0.0</td>\n",
       "    </tr>\n",
       "    <tr>\n",
       "      <th>Magic22</th>\n",
       "      <td>0.0</td>\n",
       "    </tr>\n",
       "    <tr>\n",
       "      <th>Magic23</th>\n",
       "      <td>0.0</td>\n",
       "    </tr>\n",
       "    <tr>\n",
       "      <th>Magic24</th>\n",
       "      <td>0.0</td>\n",
       "    </tr>\n",
       "  </tbody>\n",
       "</table>\n",
       "</div>"
      ],
      "text/plain": [
       "                Pvalue\n",
       "Billing_Amount     0.0\n",
       "Labelled_Price     0.0\n",
       "Magic1             0.0\n",
       "Magic2             0.0\n",
       "Magic3             0.0\n",
       "Magic4             0.0\n",
       "Magic5             0.0\n",
       "Magic6             0.0\n",
       "Magic7             0.0\n",
       "Magic8             0.0\n",
       "Magic9             0.0\n",
       "Magic10            0.0\n",
       "Magic11            0.0\n",
       "Magic12            0.0\n",
       "Magic13            0.0\n",
       "Magic14            0.0\n",
       "Magic15            0.0\n",
       "Magic16            0.0\n",
       "Magic17            0.0\n",
       "Magic18            0.0\n",
       "Magic19            0.0\n",
       "Magic20            0.0\n",
       "Magic21            0.0\n",
       "Magic22            0.0\n",
       "Magic23            0.0\n",
       "Magic24            0.0"
      ]
     },
     "execution_count": 43,
     "metadata": {},
     "output_type": "execute_result"
    }
   ],
   "source": [
    "pd.DataFrame(pval,index=nums,columns=[\"Pvalue\"])"
   ]
  },
  {
   "cell_type": "code",
   "execution_count": 59,
   "metadata": {},
   "outputs": [
    {
     "data": {
      "text/plain": [
       "Index(['Period_No', 'Facility_No', 'Facility_Category', 'City_Zip_Code',\n",
       "       'Operational_Region_Coverage_Area', 'Billing_Amount', 'Labelled_Price',\n",
       "       'Custom_Promoted', 'Promoted', 'Search_Promotions', 'Orders_Count',\n",
       "       'Course', 'Flavour_Profile', 'Facility', 'ops', 'promotions',\n",
       "       'Course_cat', 'Magic1', 'Magic2', 'Magic3', 'Magic4', 'Magic5',\n",
       "       'Magic6', 'Magic7', 'Magic8', 'Magic9', 'Magic10', 'Magic11', 'Magic12',\n",
       "       'Magic13', 'Magic14', 'Magic15', 'Magic16', 'Magic17', 'Magic18',\n",
       "       'Magic19', 'Magic20', 'Magic21', 'Magic22', 'Magic23', 'Magic24',\n",
       "       'Course_Cat', 'Op_Area'],\n",
       "      dtype='object')"
      ]
     },
     "execution_count": 59,
     "metadata": {},
     "output_type": "execute_result"
    }
   ],
   "source": [
    "combined.columns"
   ]
  },
  {
   "cell_type": "code",
   "execution_count": 68,
   "metadata": {
    "colab": {
     "base_uri": "https://localhost:8080/",
     "height": 443
    },
    "id": "hndzY2sFjKit",
    "outputId": "0ef2461a-677c-48af-a864-6b1de8629a3a"
   },
   "outputs": [
    {
     "data": {
      "text/html": [
       "<div>\n",
       "<style scoped>\n",
       "    .dataframe tbody tr th:only-of-type {\n",
       "        vertical-align: middle;\n",
       "    }\n",
       "\n",
       "    .dataframe tbody tr th {\n",
       "        vertical-align: top;\n",
       "    }\n",
       "\n",
       "    .dataframe thead th {\n",
       "        text-align: right;\n",
       "    }\n",
       "</style>\n",
       "<table border=\"1\" class=\"dataframe\">\n",
       "  <thead>\n",
       "    <tr style=\"text-align: right;\">\n",
       "      <th></th>\n",
       "      <th>df</th>\n",
       "      <th>sum_sq</th>\n",
       "      <th>mean_sq</th>\n",
       "      <th>F</th>\n",
       "      <th>PR(&gt;F)</th>\n",
       "    </tr>\n",
       "  </thead>\n",
       "  <tbody>\n",
       "    <tr>\n",
       "      <th>Facility</th>\n",
       "      <td>1.0</td>\n",
       "      <td>1.605818e+09</td>\n",
       "      <td>1.605818e+09</td>\n",
       "      <td>12752.277266</td>\n",
       "      <td>0.000000</td>\n",
       "    </tr>\n",
       "    <tr>\n",
       "      <th>ops</th>\n",
       "      <td>1.0</td>\n",
       "      <td>9.465816e+05</td>\n",
       "      <td>9.465816e+05</td>\n",
       "      <td>7.517086</td>\n",
       "      <td>0.006112</td>\n",
       "    </tr>\n",
       "    <tr>\n",
       "      <th>Course_cat</th>\n",
       "      <td>1.0</td>\n",
       "      <td>1.349381e+09</td>\n",
       "      <td>1.349381e+09</td>\n",
       "      <td>10715.833407</td>\n",
       "      <td>0.000000</td>\n",
       "    </tr>\n",
       "    <tr>\n",
       "      <th>promotions</th>\n",
       "      <td>1.0</td>\n",
       "      <td>3.912517e+09</td>\n",
       "      <td>3.912517e+09</td>\n",
       "      <td>31070.463403</td>\n",
       "      <td>0.000000</td>\n",
       "    </tr>\n",
       "    <tr>\n",
       "      <th>Residual</th>\n",
       "      <td>321432.0</td>\n",
       "      <td>4.047600e+10</td>\n",
       "      <td>1.259240e+05</td>\n",
       "      <td>NaN</td>\n",
       "      <td>NaN</td>\n",
       "    </tr>\n",
       "  </tbody>\n",
       "</table>\n",
       "</div>"
      ],
      "text/plain": [
       "                  df        sum_sq       mean_sq             F    PR(>F)\n",
       "Facility         1.0  1.605818e+09  1.605818e+09  12752.277266  0.000000\n",
       "ops              1.0  9.465816e+05  9.465816e+05      7.517086  0.006112\n",
       "Course_cat       1.0  1.349381e+09  1.349381e+09  10715.833407  0.000000\n",
       "promotions       1.0  3.912517e+09  3.912517e+09  31070.463403  0.000000\n",
       "Residual    321432.0  4.047600e+10  1.259240e+05           NaN       NaN"
      ]
     },
     "execution_count": 68,
     "metadata": {},
     "output_type": "execute_result"
    }
   ],
   "source": [
    "#Anova\n",
    "cats=['Facility', 'ops', 'promotions', 'Course_cat']\n",
    "\n",
    "import statsmodels.formula.api as sfa\n",
    "from statsmodels.stats.anova import anova_lm\n",
    "\n",
    "model= sfa.ols(\"Orders_Count~Facility+ops+promotions+Course_cat\",data= newtrain).fit()\n",
    "anova_lm(model)\n",
    "\n"
   ]
  },
  {
   "cell_type": "code",
   "execution_count": 71,
   "metadata": {},
   "outputs": [],
   "source": [
    "newtrain.to_csv(\"submission.csv\",index=False)"
   ]
  },
  {
   "cell_type": "code",
   "execution_count": null,
   "metadata": {},
   "outputs": [],
   "source": []
  }
 ],
 "metadata": {
  "colab": {
   "provenance": []
  },
  "kernelspec": {
   "display_name": "Python 3 (ipykernel)",
   "language": "python",
   "name": "python3"
  },
  "language_info": {
   "codemirror_mode": {
    "name": "ipython",
    "version": 3
   },
   "file_extension": ".py",
   "mimetype": "text/x-python",
   "name": "python",
   "nbconvert_exporter": "python",
   "pygments_lexer": "ipython3",
   "version": "3.12.5"
  }
 },
 "nbformat": 4,
 "nbformat_minor": 4
}
